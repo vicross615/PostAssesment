{
  "nbformat": 4,
  "nbformat_minor": 0,
  "metadata": {
    "colab": {
      "provenance": [],
      "authorship_tag": "ABX9TyP4oguUN4J5QlS14gAC2eoS",
      "include_colab_link": true
    },
    "kernelspec": {
      "name": "python3",
      "display_name": "Python 3"
    },
    "language_info": {
      "name": "python"
    }
  },
  "cells": [
    {
      "cell_type": "markdown",
      "metadata": {
        "id": "view-in-github",
        "colab_type": "text"
      },
      "source": [
        "<a href=\"https://colab.research.google.com/github/vicross615/PostAssesment/blob/master/Telecom_customer_churn_21075653.ipynb\" target=\"_parent\"><img src=\"https://colab.research.google.com/assets/colab-badge.svg\" alt=\"Open In Colab\"/></a>"
      ]
    },
    {
      "cell_type": "code",
      "execution_count": 37,
      "metadata": {
        "id": "82DgYHN40Jr3"
      },
      "outputs": [],
      "source": [
        "# For data manipulation and analysis\n",
        "import pandas as pd\n",
        "import numpy as np\n",
        "\n",
        "# For data visualization\n",
        "import matplotlib.pyplot as plt\n",
        "import seaborn as sns\n",
        "\n",
        "\n",
        "\n",
        "\n",
        "\n",
        "\n",
        "\n",
        "\n",
        "\n",
        "\n",
        "\n"
      ]
    },
    {
      "cell_type": "code",
      "source": [
        "from google.colab import drive\n",
        "\n",
        "\n",
        "\n",
        "\n"
      ],
      "metadata": {
        "id": "quoLGZf_FC0j"
      },
      "execution_count": 38,
      "outputs": []
    },
    {
      "cell_type": "code",
      "source": [
        "drive.mount('/content/drive')"
      ],
      "metadata": {
        "colab": {
          "base_uri": "https://localhost:8080/"
        },
        "id": "AO6J4g_GFK0B",
        "outputId": "54faa047-97a6-481c-cb07-3f36373f0eba"
      },
      "execution_count": 39,
      "outputs": [
        {
          "output_type": "stream",
          "name": "stdout",
          "text": [
            "Drive already mounted at /content/drive; to attempt to forcibly remount, call drive.mount(\"/content/drive\", force_remount=True).\n"
          ]
        }
      ]
    },
    {
      "cell_type": "code",
      "source": [
        "customers = pd.read_csv('/content/drive/My Drive/Colab Notebooks/Telecom/churn.csv')\n",
        "\n",
        "num_rows = customers.shape[0]\n",
        "\n",
        "\n",
        "print('Total number of rows: ', num_rows)"
      ],
      "metadata": {
        "colab": {
          "base_uri": "https://localhost:8080/"
        },
        "id": "_SqM_achFgF6",
        "outputId": "3fe1b96e-5355-4975-b9f1-10c2d2590c9e"
      },
      "execution_count": 40,
      "outputs": [
        {
          "output_type": "stream",
          "name": "stdout",
          "text": [
            "Total number of rows:  7043\n"
          ]
        }
      ]
    },
    {
      "cell_type": "code",
      "source": [
        "customers.head()"
      ],
      "metadata": {
        "colab": {
          "base_uri": "https://localhost:8080/",
          "height": 386
        },
        "id": "m7xSHmQeGsVQ",
        "outputId": "b16d39f2-423f-4d7d-f898-e0608dec80b7"
      },
      "execution_count": 41,
      "outputs": [
        {
          "output_type": "execute_result",
          "data": {
            "text/plain": [
              "   customerID  gender  SeniorCitizen Partner Dependents  tenure PhoneService  \\\n",
              "0  7590-VHVEG  Female              0     Yes         No       1           No   \n",
              "1  5575-GNVDE    Male              0      No         No      34          Yes   \n",
              "2  3668-QPYBK    Male              0      No         No       2          Yes   \n",
              "3  7795-CFOCW    Male              0      No         No      45           No   \n",
              "4  9237-HQITU  Female              0      No         No       2          Yes   \n",
              "\n",
              "      MultipleLines InternetService OnlineSecurity  ... DeviceProtection  \\\n",
              "0  No phone service             DSL             No  ...               No   \n",
              "1                No             DSL            Yes  ...              Yes   \n",
              "2                No             DSL            Yes  ...               No   \n",
              "3  No phone service             DSL            Yes  ...              Yes   \n",
              "4                No     Fiber optic             No  ...               No   \n",
              "\n",
              "  TechSupport StreamingTV StreamingMovies        Contract PaperlessBilling  \\\n",
              "0          No          No              No  Month-to-month              Yes   \n",
              "1          No          No              No        One year               No   \n",
              "2          No          No              No  Month-to-month              Yes   \n",
              "3         Yes          No              No        One year               No   \n",
              "4          No          No              No  Month-to-month              Yes   \n",
              "\n",
              "               PaymentMethod MonthlyCharges  TotalCharges Churn  \n",
              "0           Electronic check          29.85         29.85    No  \n",
              "1               Mailed check          56.95        1889.5    No  \n",
              "2               Mailed check          53.85        108.15   Yes  \n",
              "3  Bank transfer (automatic)          42.30       1840.75    No  \n",
              "4           Electronic check          70.70        151.65   Yes  \n",
              "\n",
              "[5 rows x 21 columns]"
            ],
            "text/html": [
              "\n",
              "  <div id=\"df-4165b5b6-7b25-475d-bea5-5fcb7d320991\">\n",
              "    <div class=\"colab-df-container\">\n",
              "      <div>\n",
              "<style scoped>\n",
              "    .dataframe tbody tr th:only-of-type {\n",
              "        vertical-align: middle;\n",
              "    }\n",
              "\n",
              "    .dataframe tbody tr th {\n",
              "        vertical-align: top;\n",
              "    }\n",
              "\n",
              "    .dataframe thead th {\n",
              "        text-align: right;\n",
              "    }\n",
              "</style>\n",
              "<table border=\"1\" class=\"dataframe\">\n",
              "  <thead>\n",
              "    <tr style=\"text-align: right;\">\n",
              "      <th></th>\n",
              "      <th>customerID</th>\n",
              "      <th>gender</th>\n",
              "      <th>SeniorCitizen</th>\n",
              "      <th>Partner</th>\n",
              "      <th>Dependents</th>\n",
              "      <th>tenure</th>\n",
              "      <th>PhoneService</th>\n",
              "      <th>MultipleLines</th>\n",
              "      <th>InternetService</th>\n",
              "      <th>OnlineSecurity</th>\n",
              "      <th>...</th>\n",
              "      <th>DeviceProtection</th>\n",
              "      <th>TechSupport</th>\n",
              "      <th>StreamingTV</th>\n",
              "      <th>StreamingMovies</th>\n",
              "      <th>Contract</th>\n",
              "      <th>PaperlessBilling</th>\n",
              "      <th>PaymentMethod</th>\n",
              "      <th>MonthlyCharges</th>\n",
              "      <th>TotalCharges</th>\n",
              "      <th>Churn</th>\n",
              "    </tr>\n",
              "  </thead>\n",
              "  <tbody>\n",
              "    <tr>\n",
              "      <th>0</th>\n",
              "      <td>7590-VHVEG</td>\n",
              "      <td>Female</td>\n",
              "      <td>0</td>\n",
              "      <td>Yes</td>\n",
              "      <td>No</td>\n",
              "      <td>1</td>\n",
              "      <td>No</td>\n",
              "      <td>No phone service</td>\n",
              "      <td>DSL</td>\n",
              "      <td>No</td>\n",
              "      <td>...</td>\n",
              "      <td>No</td>\n",
              "      <td>No</td>\n",
              "      <td>No</td>\n",
              "      <td>No</td>\n",
              "      <td>Month-to-month</td>\n",
              "      <td>Yes</td>\n",
              "      <td>Electronic check</td>\n",
              "      <td>29.85</td>\n",
              "      <td>29.85</td>\n",
              "      <td>No</td>\n",
              "    </tr>\n",
              "    <tr>\n",
              "      <th>1</th>\n",
              "      <td>5575-GNVDE</td>\n",
              "      <td>Male</td>\n",
              "      <td>0</td>\n",
              "      <td>No</td>\n",
              "      <td>No</td>\n",
              "      <td>34</td>\n",
              "      <td>Yes</td>\n",
              "      <td>No</td>\n",
              "      <td>DSL</td>\n",
              "      <td>Yes</td>\n",
              "      <td>...</td>\n",
              "      <td>Yes</td>\n",
              "      <td>No</td>\n",
              "      <td>No</td>\n",
              "      <td>No</td>\n",
              "      <td>One year</td>\n",
              "      <td>No</td>\n",
              "      <td>Mailed check</td>\n",
              "      <td>56.95</td>\n",
              "      <td>1889.5</td>\n",
              "      <td>No</td>\n",
              "    </tr>\n",
              "    <tr>\n",
              "      <th>2</th>\n",
              "      <td>3668-QPYBK</td>\n",
              "      <td>Male</td>\n",
              "      <td>0</td>\n",
              "      <td>No</td>\n",
              "      <td>No</td>\n",
              "      <td>2</td>\n",
              "      <td>Yes</td>\n",
              "      <td>No</td>\n",
              "      <td>DSL</td>\n",
              "      <td>Yes</td>\n",
              "      <td>...</td>\n",
              "      <td>No</td>\n",
              "      <td>No</td>\n",
              "      <td>No</td>\n",
              "      <td>No</td>\n",
              "      <td>Month-to-month</td>\n",
              "      <td>Yes</td>\n",
              "      <td>Mailed check</td>\n",
              "      <td>53.85</td>\n",
              "      <td>108.15</td>\n",
              "      <td>Yes</td>\n",
              "    </tr>\n",
              "    <tr>\n",
              "      <th>3</th>\n",
              "      <td>7795-CFOCW</td>\n",
              "      <td>Male</td>\n",
              "      <td>0</td>\n",
              "      <td>No</td>\n",
              "      <td>No</td>\n",
              "      <td>45</td>\n",
              "      <td>No</td>\n",
              "      <td>No phone service</td>\n",
              "      <td>DSL</td>\n",
              "      <td>Yes</td>\n",
              "      <td>...</td>\n",
              "      <td>Yes</td>\n",
              "      <td>Yes</td>\n",
              "      <td>No</td>\n",
              "      <td>No</td>\n",
              "      <td>One year</td>\n",
              "      <td>No</td>\n",
              "      <td>Bank transfer (automatic)</td>\n",
              "      <td>42.30</td>\n",
              "      <td>1840.75</td>\n",
              "      <td>No</td>\n",
              "    </tr>\n",
              "    <tr>\n",
              "      <th>4</th>\n",
              "      <td>9237-HQITU</td>\n",
              "      <td>Female</td>\n",
              "      <td>0</td>\n",
              "      <td>No</td>\n",
              "      <td>No</td>\n",
              "      <td>2</td>\n",
              "      <td>Yes</td>\n",
              "      <td>No</td>\n",
              "      <td>Fiber optic</td>\n",
              "      <td>No</td>\n",
              "      <td>...</td>\n",
              "      <td>No</td>\n",
              "      <td>No</td>\n",
              "      <td>No</td>\n",
              "      <td>No</td>\n",
              "      <td>Month-to-month</td>\n",
              "      <td>Yes</td>\n",
              "      <td>Electronic check</td>\n",
              "      <td>70.70</td>\n",
              "      <td>151.65</td>\n",
              "      <td>Yes</td>\n",
              "    </tr>\n",
              "  </tbody>\n",
              "</table>\n",
              "<p>5 rows × 21 columns</p>\n",
              "</div>\n",
              "      <button class=\"colab-df-convert\" onclick=\"convertToInteractive('df-4165b5b6-7b25-475d-bea5-5fcb7d320991')\"\n",
              "              title=\"Convert this dataframe to an interactive table.\"\n",
              "              style=\"display:none;\">\n",
              "        \n",
              "  <svg xmlns=\"http://www.w3.org/2000/svg\" height=\"24px\"viewBox=\"0 0 24 24\"\n",
              "       width=\"24px\">\n",
              "    <path d=\"M0 0h24v24H0V0z\" fill=\"none\"/>\n",
              "    <path d=\"M18.56 5.44l.94 2.06.94-2.06 2.06-.94-2.06-.94-.94-2.06-.94 2.06-2.06.94zm-11 1L8.5 8.5l.94-2.06 2.06-.94-2.06-.94L8.5 2.5l-.94 2.06-2.06.94zm10 10l.94 2.06.94-2.06 2.06-.94-2.06-.94-.94-2.06-.94 2.06-2.06.94z\"/><path d=\"M17.41 7.96l-1.37-1.37c-.4-.4-.92-.59-1.43-.59-.52 0-1.04.2-1.43.59L10.3 9.45l-7.72 7.72c-.78.78-.78 2.05 0 2.83L4 21.41c.39.39.9.59 1.41.59.51 0 1.02-.2 1.41-.59l7.78-7.78 2.81-2.81c.8-.78.8-2.07 0-2.86zM5.41 20L4 18.59l7.72-7.72 1.47 1.35L5.41 20z\"/>\n",
              "  </svg>\n",
              "      </button>\n",
              "      \n",
              "  <style>\n",
              "    .colab-df-container {\n",
              "      display:flex;\n",
              "      flex-wrap:wrap;\n",
              "      gap: 12px;\n",
              "    }\n",
              "\n",
              "    .colab-df-convert {\n",
              "      background-color: #E8F0FE;\n",
              "      border: none;\n",
              "      border-radius: 50%;\n",
              "      cursor: pointer;\n",
              "      display: none;\n",
              "      fill: #1967D2;\n",
              "      height: 32px;\n",
              "      padding: 0 0 0 0;\n",
              "      width: 32px;\n",
              "    }\n",
              "\n",
              "    .colab-df-convert:hover {\n",
              "      background-color: #E2EBFA;\n",
              "      box-shadow: 0px 1px 2px rgba(60, 64, 67, 0.3), 0px 1px 3px 1px rgba(60, 64, 67, 0.15);\n",
              "      fill: #174EA6;\n",
              "    }\n",
              "\n",
              "    [theme=dark] .colab-df-convert {\n",
              "      background-color: #3B4455;\n",
              "      fill: #D2E3FC;\n",
              "    }\n",
              "\n",
              "    [theme=dark] .colab-df-convert:hover {\n",
              "      background-color: #434B5C;\n",
              "      box-shadow: 0px 1px 3px 1px rgba(0, 0, 0, 0.15);\n",
              "      filter: drop-shadow(0px 1px 2px rgba(0, 0, 0, 0.3));\n",
              "      fill: #FFFFFF;\n",
              "    }\n",
              "  </style>\n",
              "\n",
              "      <script>\n",
              "        const buttonEl =\n",
              "          document.querySelector('#df-4165b5b6-7b25-475d-bea5-5fcb7d320991 button.colab-df-convert');\n",
              "        buttonEl.style.display =\n",
              "          google.colab.kernel.accessAllowed ? 'block' : 'none';\n",
              "\n",
              "        async function convertToInteractive(key) {\n",
              "          const element = document.querySelector('#df-4165b5b6-7b25-475d-bea5-5fcb7d320991');\n",
              "          const dataTable =\n",
              "            await google.colab.kernel.invokeFunction('convertToInteractive',\n",
              "                                                     [key], {});\n",
              "          if (!dataTable) return;\n",
              "\n",
              "          const docLinkHtml = 'Like what you see? Visit the ' +\n",
              "            '<a target=\"_blank\" href=https://colab.research.google.com/notebooks/data_table.ipynb>data table notebook</a>'\n",
              "            + ' to learn more about interactive tables.';\n",
              "          element.innerHTML = '';\n",
              "          dataTable['output_type'] = 'display_data';\n",
              "          await google.colab.output.renderOutput(dataTable, element);\n",
              "          const docLink = document.createElement('div');\n",
              "          docLink.innerHTML = docLinkHtml;\n",
              "          element.appendChild(docLink);\n",
              "        }\n",
              "      </script>\n",
              "    </div>\n",
              "  </div>\n",
              "  "
            ]
          },
          "metadata": {},
          "execution_count": 41
        }
      ]
    },
    {
      "cell_type": "code",
      "source": [
        "def create_service_bundle(row):\n",
        "    services = ['PhoneService', 'MultipleLines', 'InternetService', 'OnlineSecurity', 'OnlineBackup', 'DeviceProtection', 'TechSupport', 'StreamingTV', 'StreamingMovies']\n",
        "    active_services = sum([1 if row[service] in ['Yes', 'Fiber optic', 'DSL'] else 0 for service in services])\n",
        "    \n",
        "    if active_services >= 6:\n",
        "        return 'Full Bundle'\n",
        "    elif active_services >= 4:\n",
        "        return 'Partial Bundle'\n",
        "    else:\n",
        "        return 'Basic Bundle'\n",
        "\n",
        "customers['ServiceBundle'] = customers.apply(create_service_bundle, axis=1)"
      ],
      "metadata": {
        "id": "F3ZDHgSyfS0J"
      },
      "execution_count": 42,
      "outputs": []
    },
    {
      "cell_type": "code",
      "source": [
        "print(customers.head())"
      ],
      "metadata": {
        "colab": {
          "base_uri": "https://localhost:8080/"
        },
        "id": "06gvXCHghHuf",
        "outputId": "eefc030e-20ff-4419-c948-9bd5d61e8b63"
      },
      "execution_count": 43,
      "outputs": [
        {
          "output_type": "stream",
          "name": "stdout",
          "text": [
            "   customerID  gender  SeniorCitizen Partner Dependents  tenure PhoneService  \\\n",
            "0  7590-VHVEG  Female              0     Yes         No       1           No   \n",
            "1  5575-GNVDE    Male              0      No         No      34          Yes   \n",
            "2  3668-QPYBK    Male              0      No         No       2          Yes   \n",
            "3  7795-CFOCW    Male              0      No         No      45           No   \n",
            "4  9237-HQITU  Female              0      No         No       2          Yes   \n",
            "\n",
            "      MultipleLines InternetService OnlineSecurity  ... TechSupport  \\\n",
            "0  No phone service             DSL             No  ...          No   \n",
            "1                No             DSL            Yes  ...          No   \n",
            "2                No             DSL            Yes  ...          No   \n",
            "3  No phone service             DSL            Yes  ...         Yes   \n",
            "4                No     Fiber optic             No  ...          No   \n",
            "\n",
            "  StreamingTV StreamingMovies        Contract PaperlessBilling  \\\n",
            "0          No              No  Month-to-month              Yes   \n",
            "1          No              No        One year               No   \n",
            "2          No              No  Month-to-month              Yes   \n",
            "3          No              No        One year               No   \n",
            "4          No              No  Month-to-month              Yes   \n",
            "\n",
            "               PaymentMethod MonthlyCharges TotalCharges  Churn  \\\n",
            "0           Electronic check          29.85        29.85     No   \n",
            "1               Mailed check          56.95       1889.5     No   \n",
            "2               Mailed check          53.85       108.15    Yes   \n",
            "3  Bank transfer (automatic)          42.30      1840.75     No   \n",
            "4           Electronic check          70.70       151.65    Yes   \n",
            "\n",
            "    ServiceBundle  \n",
            "0    Basic Bundle  \n",
            "1  Partial Bundle  \n",
            "2  Partial Bundle  \n",
            "3  Partial Bundle  \n",
            "4    Basic Bundle  \n",
            "\n",
            "[5 rows x 22 columns]\n"
          ]
        }
      ]
    },
    {
      "cell_type": "code",
      "source": [
        "print(customers['ServiceBundle'].value_counts())"
      ],
      "metadata": {
        "colab": {
          "base_uri": "https://localhost:8080/"
        },
        "id": "DoJWjM7HhmAV",
        "outputId": "fb2fd782-7eaf-4eb7-c53b-7cba1b45291f"
      },
      "execution_count": 44,
      "outputs": [
        {
          "output_type": "stream",
          "name": "stdout",
          "text": [
            "Basic Bundle      2969\n",
            "Full Bundle       2187\n",
            "Partial Bundle    1887\n",
            "Name: ServiceBundle, dtype: int64\n"
          ]
        }
      ]
    },
    {
      "cell_type": "code",
      "source": [
        "servicebundle_percentages = customers['ServiceBundle'].value_counts(normalize=True) * 100\n",
        "\n",
        "print(servicebundle_percentages)"
      ],
      "metadata": {
        "colab": {
          "base_uri": "https://localhost:8080/"
        },
        "id": "gKgTW0RC2Fri",
        "outputId": "d28b3286-6886-4258-a30e-e31cf9584a01"
      },
      "execution_count": 45,
      "outputs": [
        {
          "output_type": "stream",
          "name": "stdout",
          "text": [
            "Basic Bundle      42.155332\n",
            "Full Bundle       31.052108\n",
            "Partial Bundle    26.792560\n",
            "Name: ServiceBundle, dtype: float64\n"
          ]
        }
      ]
    },
    {
      "cell_type": "code",
      "source": [
        "grouped = customers.groupby('Churn')['ServiceBundle']\n",
        "\n",
        "servicebundle_percentages_by_churn = grouped.value_counts(normalize=True) * 100\n",
        "\n",
        "print(servicebundle_percentages_by_churn)"
      ],
      "metadata": {
        "colab": {
          "base_uri": "https://localhost:8080/"
        },
        "id": "HcN4_3rJ3pCX",
        "outputId": "e0ae1abb-5b79-427d-f3e8-38de1681afcf"
      },
      "execution_count": 46,
      "outputs": [
        {
          "output_type": "stream",
          "name": "stdout",
          "text": [
            "Churn  ServiceBundle \n",
            "No     Basic Bundle      42.230383\n",
            "       Full Bundle       33.687669\n",
            "       Partial Bundle    24.081948\n",
            "Yes    Basic Bundle      41.947566\n",
            "       Partial Bundle    34.296415\n",
            "       Full Bundle       23.756019\n",
            "Name: ServiceBundle, dtype: float64\n"
          ]
        }
      ]
    },
    {
      "cell_type": "code",
      "source": [
        "import pandas as pd\n",
        "import matplotlib.pyplot as plt\n",
        "import seaborn as sns\n",
        "\n",
        "customers['ServiceBundle'].value_counts().plot(kind='bar')\n",
        "plt.title('Counts of ServiceBundle Categories')\n",
        "plt.xlabel('ServiceBundle')\n",
        "plt.ylabel('Count')\n",
        "plt.show()"
      ],
      "metadata": {
        "id": "K0O8eSkjm2pG"
      },
      "execution_count": null,
      "outputs": []
    },
    {
      "cell_type": "code",
      "source": [
        "pd.crosstab(customers['ServiceBundle'], customers['Churn'])"
      ],
      "metadata": {
        "colab": {
          "base_uri": "https://localhost:8080/",
          "height": 175
        },
        "id": "bYgQqEQvnx-O",
        "outputId": "443e0913-c81a-4b07-aa65-43b5d9f89c20"
      },
      "execution_count": 48,
      "outputs": [
        {
          "output_type": "execute_result",
          "data": {
            "text/plain": [
              "Churn             No  Yes\n",
              "ServiceBundle            \n",
              "Basic Bundle    2185  784\n",
              "Full Bundle     1743  444\n",
              "Partial Bundle  1246  641"
            ],
            "text/html": [
              "\n",
              "  <div id=\"df-4d9669c3-9b7d-438f-a6db-1731387290c1\">\n",
              "    <div class=\"colab-df-container\">\n",
              "      <div>\n",
              "<style scoped>\n",
              "    .dataframe tbody tr th:only-of-type {\n",
              "        vertical-align: middle;\n",
              "    }\n",
              "\n",
              "    .dataframe tbody tr th {\n",
              "        vertical-align: top;\n",
              "    }\n",
              "\n",
              "    .dataframe thead th {\n",
              "        text-align: right;\n",
              "    }\n",
              "</style>\n",
              "<table border=\"1\" class=\"dataframe\">\n",
              "  <thead>\n",
              "    <tr style=\"text-align: right;\">\n",
              "      <th>Churn</th>\n",
              "      <th>No</th>\n",
              "      <th>Yes</th>\n",
              "    </tr>\n",
              "    <tr>\n",
              "      <th>ServiceBundle</th>\n",
              "      <th></th>\n",
              "      <th></th>\n",
              "    </tr>\n",
              "  </thead>\n",
              "  <tbody>\n",
              "    <tr>\n",
              "      <th>Basic Bundle</th>\n",
              "      <td>2185</td>\n",
              "      <td>784</td>\n",
              "    </tr>\n",
              "    <tr>\n",
              "      <th>Full Bundle</th>\n",
              "      <td>1743</td>\n",
              "      <td>444</td>\n",
              "    </tr>\n",
              "    <tr>\n",
              "      <th>Partial Bundle</th>\n",
              "      <td>1246</td>\n",
              "      <td>641</td>\n",
              "    </tr>\n",
              "  </tbody>\n",
              "</table>\n",
              "</div>\n",
              "      <button class=\"colab-df-convert\" onclick=\"convertToInteractive('df-4d9669c3-9b7d-438f-a6db-1731387290c1')\"\n",
              "              title=\"Convert this dataframe to an interactive table.\"\n",
              "              style=\"display:none;\">\n",
              "        \n",
              "  <svg xmlns=\"http://www.w3.org/2000/svg\" height=\"24px\"viewBox=\"0 0 24 24\"\n",
              "       width=\"24px\">\n",
              "    <path d=\"M0 0h24v24H0V0z\" fill=\"none\"/>\n",
              "    <path d=\"M18.56 5.44l.94 2.06.94-2.06 2.06-.94-2.06-.94-.94-2.06-.94 2.06-2.06.94zm-11 1L8.5 8.5l.94-2.06 2.06-.94-2.06-.94L8.5 2.5l-.94 2.06-2.06.94zm10 10l.94 2.06.94-2.06 2.06-.94-2.06-.94-.94-2.06-.94 2.06-2.06.94z\"/><path d=\"M17.41 7.96l-1.37-1.37c-.4-.4-.92-.59-1.43-.59-.52 0-1.04.2-1.43.59L10.3 9.45l-7.72 7.72c-.78.78-.78 2.05 0 2.83L4 21.41c.39.39.9.59 1.41.59.51 0 1.02-.2 1.41-.59l7.78-7.78 2.81-2.81c.8-.78.8-2.07 0-2.86zM5.41 20L4 18.59l7.72-7.72 1.47 1.35L5.41 20z\"/>\n",
              "  </svg>\n",
              "      </button>\n",
              "      \n",
              "  <style>\n",
              "    .colab-df-container {\n",
              "      display:flex;\n",
              "      flex-wrap:wrap;\n",
              "      gap: 12px;\n",
              "    }\n",
              "\n",
              "    .colab-df-convert {\n",
              "      background-color: #E8F0FE;\n",
              "      border: none;\n",
              "      border-radius: 50%;\n",
              "      cursor: pointer;\n",
              "      display: none;\n",
              "      fill: #1967D2;\n",
              "      height: 32px;\n",
              "      padding: 0 0 0 0;\n",
              "      width: 32px;\n",
              "    }\n",
              "\n",
              "    .colab-df-convert:hover {\n",
              "      background-color: #E2EBFA;\n",
              "      box-shadow: 0px 1px 2px rgba(60, 64, 67, 0.3), 0px 1px 3px 1px rgba(60, 64, 67, 0.15);\n",
              "      fill: #174EA6;\n",
              "    }\n",
              "\n",
              "    [theme=dark] .colab-df-convert {\n",
              "      background-color: #3B4455;\n",
              "      fill: #D2E3FC;\n",
              "    }\n",
              "\n",
              "    [theme=dark] .colab-df-convert:hover {\n",
              "      background-color: #434B5C;\n",
              "      box-shadow: 0px 1px 3px 1px rgba(0, 0, 0, 0.15);\n",
              "      filter: drop-shadow(0px 1px 2px rgba(0, 0, 0, 0.3));\n",
              "      fill: #FFFFFF;\n",
              "    }\n",
              "  </style>\n",
              "\n",
              "      <script>\n",
              "        const buttonEl =\n",
              "          document.querySelector('#df-4d9669c3-9b7d-438f-a6db-1731387290c1 button.colab-df-convert');\n",
              "        buttonEl.style.display =\n",
              "          google.colab.kernel.accessAllowed ? 'block' : 'none';\n",
              "\n",
              "        async function convertToInteractive(key) {\n",
              "          const element = document.querySelector('#df-4d9669c3-9b7d-438f-a6db-1731387290c1');\n",
              "          const dataTable =\n",
              "            await google.colab.kernel.invokeFunction('convertToInteractive',\n",
              "                                                     [key], {});\n",
              "          if (!dataTable) return;\n",
              "\n",
              "          const docLinkHtml = 'Like what you see? Visit the ' +\n",
              "            '<a target=\"_blank\" href=https://colab.research.google.com/notebooks/data_table.ipynb>data table notebook</a>'\n",
              "            + ' to learn more about interactive tables.';\n",
              "          element.innerHTML = '';\n",
              "          dataTable['output_type'] = 'display_data';\n",
              "          await google.colab.output.renderOutput(dataTable, element);\n",
              "          const docLink = document.createElement('div');\n",
              "          docLink.innerHTML = docLinkHtml;\n",
              "          element.appendChild(docLink);\n",
              "        }\n",
              "      </script>\n",
              "    </div>\n",
              "  </div>\n",
              "  "
            ]
          },
          "metadata": {},
          "execution_count": 48
        }
      ]
    },
    {
      "cell_type": "code",
      "source": [
        "sns.boxplot(x='ServiceBundle', y='MonthlyCharges', data=customers)\n",
        "plt.title('Monthly Charges by Service Bundle')\n",
        "plt.show()"
      ],
      "metadata": {
        "colab": {
          "base_uri": "https://localhost:8080/",
          "height": 472
        },
        "id": "RYdbhwlToTUT",
        "outputId": "c4804a28-e9c6-43fe-d065-2b9715ba7341"
      },
      "execution_count": 49,
      "outputs": [
        {
          "output_type": "display_data",
          "data": {
            "text/plain": [
              "<Figure size 640x480 with 1 Axes>"
            ],
            "image/png": "[encoded data removed]"
          },
          "metadata": {}
        }
      ]
    },
    {
      "cell_type": "code",
      "source": [
        "plt.figure(figsize=(12, 6))\n",
        "sns.countplot(x='ServiceBundle', hue='Churn', data=customers)\n",
        "plt.title('Churn by Service Bundle')\n",
        "plt.show()"
      ],
      "metadata": {
        "id": "u0cz_VlNHe_Z"
      },
      "execution_count": null,
      "outputs": []
    },
    {
      "cell_type": "code",
      "source": [
        "features = ['Contract', 'MonthlyCharges', 'PaymentMethod', 'SeniorCitizen', \n",
        "            'OnlineSecurity', 'OnlineBackup', 'DeviceProtection', 'TechSupport', 'tenure']"
      ],
      "metadata": {
        "id": "Lcbk-OvESQGZ"
      },
      "execution_count": 51,
      "outputs": []
    },
    {
      "cell_type": "code",
      "source": [
        "\n",
        "\n",
        "for feature in features:\n",
        "    plt.figure(figsize=(10,8))\n",
        "\n",
        "    plt.subplot(2, 1, 1)\n",
        "    sns.countplot(data=customers, x=feature, hue='ServiceBundle')\n",
        "    plt.title('Distribution of {} by ServiceBundle'.format(feature))\n",
        "\n",
        "    plt.subplot(2, 1, 2)\n",
        "    sns.countplot(data=customers, x=feature, hue='Churn')\n",
        "    plt.title('Distribution of {} by Churn'.format(feature))\n",
        "\n",
        "    plt.tight_layout()\n",
        "    plt.show()"
      ],
      "metadata": {
        "id": "Do0ywKRAJ6aE"
      },
      "execution_count": null,
      "outputs": []
    },
    {
      "cell_type": "code",
      "source": [
        "servicebundle_percentages = customers['ServiceBundle'].value_counts(normalize=True) * 100\n",
        "\n",
        "print(servicebundle_percentages)"
      ],
      "metadata": {
        "id": "DVkeru4b0exO"
      },
      "execution_count": null,
      "outputs": []
    },
    {
      "cell_type": "code",
      "source": [
        "from scipy.stats import chi2_contingency\n",
        "\n",
        "# Create a cross-tabulation of ServiceBundle and Churn\n",
        "contingency_table = pd.crosstab(customers['ServiceBundle'], customers['Churn'])\n",
        "\n",
        "# Perform the chi-square test\n",
        "chi2, p, dof, expected = chi2_contingency(contingency_table)\n",
        "\n",
        "# Print the p-value\n",
        "print(p)"
      ],
      "metadata": {
        "colab": {
          "base_uri": "https://localhost:8080/"
        },
        "id": "MIxvOoyWxh5b",
        "outputId": "438219bc-f116-4916-94d2-66a924a04abe"
      },
      "execution_count": 81,
      "outputs": [
        {
          "output_type": "stream",
          "name": "stdout",
          "text": [
            "8.187215639097966e-22\n"
          ]
        }
      ]
    },
    {
      "cell_type": "code",
      "source": [
        "churn_proportion = customers['Churn'].value_counts(normalize=True)\n",
        "print(churn_proportion)"
      ],
      "metadata": {
        "id": "6-hpzrJ8qPde"
      },
      "execution_count": null,
      "outputs": []
    },
    {
      "cell_type": "code",
      "source": [
        "from sklearn.model_selection import train_test_split\n",
        "# assuming df is your DataFrame\n",
        "customer_features = ['customerID', 'gender', 'SeniorCitizen', 'Partner', 'Dependents', 'tenure', 'PhoneService', 'MultipleLines', 'InternetService', 'OnlineSecurity', 'OnlineBackup', 'DeviceProtection', 'TechSupport', 'StreamingTV', 'StreamingMovies', 'Contract', 'PaperlessBilling', 'PaymentMethod', 'MonthlyCharges', 'TotalCharges', 'Churn', 'ServiceBundle']\n",
        "\n",
        "# Perform one-hot encoding on 'Contract' and 'PaymentMethod'\n",
        "df_encoded = pd.get_dummies(customers, columns=['Contract', 'PaymentMethod'])\n",
        "\n",
        "\n",
        "features_after_encoding = df_encoded.columns.tolist()\n",
        "print(features_after_encoding)"
      ],
      "metadata": {
        "colab": {
          "base_uri": "https://localhost:8080/"
        },
        "id": "C0gSa-1FXi0h",
        "outputId": "605f5aa3-8a62-4c3a-e0ea-c08b0d8e570a"
      },
      "execution_count": 61,
      "outputs": [
        {
          "output_type": "stream",
          "name": "stdout",
          "text": [
            "['customerID', 'gender', 'SeniorCitizen', 'Partner', 'Dependents', 'tenure', 'PhoneService', 'MultipleLines', 'InternetService', 'OnlineSecurity', 'OnlineBackup', 'DeviceProtection', 'TechSupport', 'StreamingTV', 'StreamingMovies', 'PaperlessBilling', 'MonthlyCharges', 'TotalCharges', 'Churn', 'ServiceBundle', 'Contract_Month-to-month', 'Contract_One year', 'Contract_Two year', 'PaymentMethod_Bank transfer (automatic)', 'PaymentMethod_Credit card (automatic)', 'PaymentMethod_Electronic check', 'PaymentMethod_Mailed check']\n"
          ]
        }
      ]
    },
    {
      "cell_type": "code",
      "source": [
        "from sklearn.model_selection import train_test_split\n",
        "from sklearn.preprocessing import LabelEncoder\n",
        "\n",
        "# Create a label encoder\n",
        "le = LabelEncoder()\n",
        "target = 'Churn'\n",
        "\n",
        "# Split the data into features (X) and target variable (y)\n",
        "X = df_encoded[features_after_encoding]\n",
        "X = X.drop(columns=['customerID'])\n",
        "\n",
        "# Apply the label encoder to the 'gender' column\n",
        "for feature in ['gender', 'Partner', 'Dependents', 'PhoneService', 'PaperlessBilling', 'MultipleLines', 'InternetService', 'OnlineSecurity', 'OnlineBackup', 'DeviceProtection', 'TechSupport', 'StreamingTV', 'StreamingMovies']:\n",
        "    X[feature] = le.fit_transform(X[feature])\n",
        "\n",
        "y = customers[target]\n",
        "X = pd.get_dummies(X, columns=['ServiceBundle'])\n",
        "y = le.fit_transform(X['Churn'])\n",
        "# Now drop the 'Churn' column from X as it's your target variable and shouldn't be included in the features\n",
        "X = X.drop(columns=['Churn'])\n",
        "X.replace(' ', np.nan, inplace=True)\n",
        "X.fillna(0, inplace=True)\n",
        "\n",
        "# Split the data into training set and test set\n",
        "X_train, X_test, y_train, y_test = train_test_split(X, y, test_size=0.2, random_state=42)\n",
        "y_train = pd.Series(y_train)\n",
        "y_test = pd.Series(y_test)\n",
        "\n",
        "print(y_train.value_counts())"
      ],
      "metadata": {
        "id": "ZigIBxblnWn1"
      },
      "execution_count": null,
      "outputs": []
    },
    {
      "cell_type": "code",
      "source": [
        "from sklearn.model_selection import GridSearchCV, cross_val_score, KFold\n",
        "from sklearn.linear_model import LogisticRegression\n",
        "from sklearn.tree import DecisionTreeClassifier\n",
        "from sklearn.ensemble import RandomForestClassifier, GradientBoostingClassifier\n",
        "from sklearn.svm import SVC\n",
        "from sklearn.preprocessing import StandardScaler\n",
        "from sklearn.pipeline import Pipeline\n",
        "from sklearn.metrics import accuracy_score, precision_score, recall_score, roc_auc_score, f1_score\n",
        "\n",
        "pipelines = {\n",
        "    \"Logistic Regression\": Pipeline(steps=[\n",
        "        ('scl', StandardScaler()), ('clf', LogisticRegression())]),\n",
        "    \"Decision Tree\": Pipeline(steps=[\n",
        "        ('scl', StandardScaler()), ('clf', DecisionTreeClassifier())]),\n",
        "    \"Random Forest\": Pipeline(steps=[\n",
        "        ('scl', StandardScaler()), ('clf', RandomForestClassifier())]),\n",
        "    \"Gradient Boosting\": Pipeline(steps=[\n",
        "        ('scl', StandardScaler()), ('clf', GradientBoostingClassifier())]),\n",
        "    \"Support Vector Machines\": Pipeline(steps=[\n",
        "        ('scl', StandardScaler()), ('clf', SVC())]),\n",
        "}\n",
        "\n",
        "hyperparameters = {\n",
        "    \"Logistic Regression\": { 'clf__C': [0.001, 0.01, 0.1, 1, 10, 100, 1000]},\n",
        "    \"Decision Tree\": { 'clf__max_depth': list(range(1, 10))},\n",
        "    \"Random Forest\": { 'clf__n_estimators': [50, 100, 200], 'clf__max_depth': list(range(1, 10)) },\n",
        "    \"Gradient Boosting\": { 'clf__n_estimators': [50, 100, 200], 'clf__learning_rate': [0.01, 0.1] },\n",
        "    \"Support Vector Machines\": { 'clf__C': [0.001, 0.01, 0.1, 1, 10], 'clf__gamma': [0.001, 0.01, 0.1, 1] }\n",
        "}\n",
        "\n",
        "outer_cv = KFold(n_splits=3, shuffle=True, random_state=1)\n",
        "inner_cv = KFold(n_splits=3, shuffle=True, random_state=1)\n",
        "\n",
        "models = list(pipelines.keys())\n",
        "\n",
        "accuracy_scores = []\n",
        "precision_scores = []\n",
        "recall_scores = []\n",
        "roc_auc_scores = []\n",
        "f1_scores = []\n",
        "\n",
        "# For each model, fit the model, perform nested cross-validation, and store the evaluation metrics\n",
        "for name in pipelines:\n",
        "    model = GridSearchCV(pipelines[name], hyperparameters[name], cv=inner_cv, scoring='f1', error_score='raise')\n",
        "    \n",
        "    # Perform cross-validation and store the scores\n",
        "    accuracy_cv_scores = cross_val_score(model, X_train, y_train, cv=outer_cv, scoring='accuracy')\n",
        "    precision_cv_scores = cross_val_score(model, X_train, y_train, cv=outer_cv, scoring='precision')\n",
        "    recall_cv_scores = cross_val_score(model, X_train, y_train, cv=outer_cv, scoring='recall')\n",
        "    roc_auc_cv_scores = cross_val_score(model, X_train, y_train, cv=outer_cv, scoring='roc_auc')\n",
        "    f1_cv_scores = cross_val_score(model, X_train, y_train, cv=outer_cv, scoring='f1')\n",
        "\n",
        "    # Take the average of the cross-validation scores\n",
        "    accuracy = accuracy_cv_scores.mean()\n",
        "    precision = precision_cv_scores.mean()\n",
        "    recall = recall_cv_scores.mean()\n",
        "    roc_auc = roc_auc_cv_scores.mean()\n",
        "    f1 = f1_cv_scores.mean()\n",
        "\n",
        "    # Append the scores to the respective lists\n",
        "    accuracy_scores.append(accuracy)\n",
        "    precision_scores.append(precision)\n",
        "    recall_scores.append(recall)\n",
        "    roc_auc_scores.append(roc_auc)\n",
        "    f1_scores.append(f1)\n",
        "\n",
        "# Print the evaluation metrics for each model\n",
        "for model, accuracy, precision, recall, roc_auc, f1 in zip(models, accuracy_scores, precision_scores, recall_scores, roc_auc_scores, f1_scores):\n",
        "    print(f\"Model: {model}\")\n",
        "    print(f\"Accuracy: {accuracy:.4f}\")\n",
        "    print(f\"Precision: {precision:.4f}\")\n",
        "    print(f\"Recall: {recall:.4f}\")\n",
        "    print(f\"ROC-AUC: {roc_auc:.4f}\")\n",
        "    print(f\"F1-Score: {f1:.4f}\")\n",
        "    print()"
      ],
      "metadata": {
        "colab": {
          "base_uri": "https://localhost:8080/"
        },
        "id": "9Q9kvOttsmnt",
        "outputId": "1ade9638-6e93-432e-fe4b-5400f5a7d845"
      },
      "execution_count": 90,
      "outputs": [
        {
          "output_type": "stream",
          "name": "stdout",
          "text": [
            "Model: Logistic Regression\n",
            "Accuracy: 0.8000\n",
            "Precision: 0.6521\n",
            "Recall: 0.5311\n",
            "ROC-AUC: 0.8404\n",
            "F1-Score: 0.5846\n",
            "\n",
            "Model: Decision Tree\n",
            "Accuracy: 0.7508\n",
            "Precision: 0.5354\n",
            "Recall: 0.6453\n",
            "ROC-AUC: 0.7795\n",
            "F1-Score: 0.5720\n",
            "\n",
            "Model: Random Forest\n",
            "Accuracy: 0.7987\n",
            "Precision: 0.6739\n",
            "Recall: 0.4876\n",
            "ROC-AUC: 0.8416\n",
            "F1-Score: 0.5684\n",
            "\n",
            "Model: Gradient Boosting\n",
            "Accuracy: 0.7978\n",
            "Precision: 0.6541\n",
            "Recall: 0.5069\n",
            "ROC-AUC: 0.8412\n",
            "F1-Score: 0.5702\n",
            "\n",
            "Model: Support Vector Machines\n",
            "Accuracy: 0.7985\n",
            "Precision: 0.6570\n",
            "Recall: 0.5063\n",
            "ROC-AUC: 0.8329\n",
            "F1-Score: 0.5713\n",
            "\n"
          ]
        }
      ]
    },
    {
      "cell_type": "code",
      "source": [
        "# Fit the Logistic Regression model\n",
        "logreg = LogisticRegression()\n",
        "logreg.fit(X_train, y_train)\n",
        "\n",
        "# Get the coefficients and feature names\n",
        "coefficients = logreg.coef_[0]\n",
        "feature_names = X_train.columns\n",
        "\n",
        "# Create a DataFrame with coefficients\n",
        "coefficients_df = pd.DataFrame({'Feature': feature_names, 'Coefficient': coefficients})\n",
        "\n",
        "# Sort the coefficients by absolute value\n",
        "coefficients_df['Absolute Coefficient'] = coefficients_df['Coefficient'].abs()\n",
        "coefficients_df = coefficients_df.sort_values('Absolute Coefficient', ascending=False)\n",
        "\n",
        "# Print the coefficients table\n",
        "print(coefficients_df)"
      ],
      "metadata": {
        "colab": {
          "base_uri": "https://localhost:8080/"
        },
        "id": "nKmh6VMsHsyh",
        "outputId": "ce429251-56d3-4f69-8ea9-d9399a8402b7"
      },
      "execution_count": 91,
      "outputs": [
        {
          "output_type": "stream",
          "name": "stdout",
          "text": [
            "                                    Feature  Coefficient  Absolute Coefficient\n",
            "5                              PhoneService    -0.641348              0.641348\n",
            "19                        Contract_Two year    -0.571617              0.571617\n",
            "17                  Contract_Month-to-month     0.459781              0.459781\n",
            "14                         PaperlessBilling     0.405983              0.405983\n",
            "8                            OnlineSecurity    -0.285118              0.285118\n",
            "23               PaymentMethod_Mailed check    -0.280053              0.280053\n",
            "22           PaymentMethod_Electronic check     0.278115              0.278115\n",
            "1                             SeniorCitizen     0.247877              0.247877\n",
            "26             ServiceBundle_Partial Bundle    -0.244937              0.244937\n",
            "11                              TechSupport    -0.236765              0.236765\n",
            "18                        Contract_One year    -0.227278              0.227278\n",
            "3                                Dependents    -0.226362              0.226362\n",
            "24               ServiceBundle_Basic Bundle    -0.220551              0.220551\n",
            "21    PaymentMethod_Credit card (automatic)    -0.213519              0.213519\n",
            "9                              OnlineBackup    -0.212205              0.212205\n",
            "25                ServiceBundle_Full Bundle     0.126374              0.126374\n",
            "0                                    gender    -0.124328              0.124328\n",
            "20  PaymentMethod_Bank transfer (automatic)    -0.123657              0.123657\n",
            "7                           InternetService     0.097345              0.097345\n",
            "10                         DeviceProtection    -0.091994              0.091994\n",
            "4                                    tenure    -0.056804              0.056804\n",
            "2                                   Partner     0.056150              0.056150\n",
            "6                             MultipleLines     0.050519              0.050519\n",
            "13                          StreamingMovies     0.030705              0.030705\n",
            "12                              StreamingTV    -0.021629              0.021629\n",
            "15                           MonthlyCharges     0.014224              0.014224\n",
            "16                             TotalCharges     0.000287              0.000287\n"
          ]
        },
        {
          "output_type": "stream",
          "name": "stderr",
          "text": [
            "/usr/local/lib/python3.10/dist-packages/sklearn/linear_model/_logistic.py:458: ConvergenceWarning: lbfgs failed to converge (status=1):\n",
            "STOP: TOTAL NO. of ITERATIONS REACHED LIMIT.\n",
            "\n",
            "Increase the number of iterations (max_iter) or scale the data as shown in:\n",
            "    https://scikit-learn.org/stable/modules/preprocessing.html\n",
            "Please also refer to the documentation for alternative solver options:\n",
            "    https://scikit-learn.org/stable/modules/linear_model.html#logistic-regression\n",
            "  n_iter_i = _check_optimize_result(\n"
          ]
        }
      ]
    },
    {
      "cell_type": "code",
      "source": [
        "from tabulate import tabulate\n",
        "\n",
        "data = [\n",
        "    [\"Feature\", \"Coefficient\", \"Absolute Coefficient\"],\n",
        "    [\"PhoneService\", -0.641348, 0.641348],\n",
        "    [\"Contract_Two year\", -0.571617, 0.571617],\n",
        "    [\"Contract_Month-to-month\", 0.459781, 0.459781],\n",
        "    [\"PaperlessBilling\", 0.405983, 0.405983],\n",
        "    [\"OnlineSecurity\", -0.285118, 0.285118],\n",
        "    [\"PaymentMethod_Mailed check\", -0.280053, 0.280053],\n",
        "    [\"PaymentMethod_Electronic check\", 0.278115, 0.278115],\n",
        "    [\"SeniorCitizen\", 0.247877, 0.247877],\n",
        "    [\"ServiceBundle_Partial Bundle\", -0.244937, 0.244937],\n",
        "    [\"TechSupport\", -0.236765, 0.236765],\n",
        "    [\"Contract_One year\", -0.227278, 0.227278],\n",
        "    [\"Dependents\", -0.226362, 0.226362],\n",
        "    [\"ServiceBundle_Basic Bundle\", -0.220551, 0.220551],\n",
        "    [\"PaymentMethod_Credit card (automatic)\", -0.213519, 0.213519],\n",
        "    [\"OnlineBackup\", -0.212205, 0.212205],\n",
        "    [\"ServiceBundle_Full Bundle\", 0.126374, 0.126374],\n",
        "    [\"gender\", -0.124328, 0.124328],\n",
        "    [\"PaymentMethod_Bank transfer (automatic)\", -0.123657, 0.123657],\n",
        "    [\"InternetService\", 0.097345, 0.097345],\n",
        "    [\"DeviceProtection\", -0.091994, 0.091994],\n",
        "    [\"tenure\", -0.056804, 0.056804],\n",
        "    [\"Partner\", 0.05615, 0.05615],\n",
        "    [\"MultipleLines\", 0.050519, 0.050519],\n",
        "    [\"StreamingMovies\", 0.030705, 0.030705],\n",
        "    [\"StreamingTV\", -0.021629, 0.021629],\n",
        "    [\"MonthlyCharges\", 0.014224, 0.014224],\n",
        "    [\"TotalCharges\", 0.000287, 0.000287]\n",
        "]\n",
        "\n",
        "table = tabulate(data, headers=\"firstrow\", tablefmt=\"pipe\", numalign=\"center\", floatfmt=\".6f\")\n",
        "print(table)\n"
      ],
      "metadata": {
        "colab": {
          "base_uri": "https://localhost:8080/"
        },
        "id": "B8N5MYetL4n0",
        "outputId": "19239775-dff6-4a62-b351-8c0adc6edc6a"
      },
      "execution_count": 93,
      "outputs": [
        {
          "output_type": "stream",
          "name": "stdout",
          "text": [
            "| Feature                                 |  Coefficient  |  Absolute Coefficient  |\n",
            "|:----------------------------------------|:-------------:|:----------------------:|\n",
            "| PhoneService                            |   -0.641348   |        0.641348        |\n",
            "| Contract_Two year                       |   -0.571617   |        0.571617        |\n",
            "| Contract_Month-to-month                 |   0.459781    |        0.459781        |\n",
            "| PaperlessBilling                        |   0.405983    |        0.405983        |\n",
            "| OnlineSecurity                          |   -0.285118   |        0.285118        |\n",
            "| PaymentMethod_Mailed check              |   -0.280053   |        0.280053        |\n",
            "| PaymentMethod_Electronic check          |   0.278115    |        0.278115        |\n",
            "| SeniorCitizen                           |   0.247877    |        0.247877        |\n",
            "| ServiceBundle_Partial Bundle            |   -0.244937   |        0.244937        |\n",
            "| TechSupport                             |   -0.236765   |        0.236765        |\n",
            "| Contract_One year                       |   -0.227278   |        0.227278        |\n",
            "| Dependents                              |   -0.226362   |        0.226362        |\n",
            "| ServiceBundle_Basic Bundle              |   -0.220551   |        0.220551        |\n",
            "| PaymentMethod_Credit card (automatic)   |   -0.213519   |        0.213519        |\n",
            "| OnlineBackup                            |   -0.212205   |        0.212205        |\n",
            "| ServiceBundle_Full Bundle               |   0.126374    |        0.126374        |\n",
            "| gender                                  |   -0.124328   |        0.124328        |\n",
            "| PaymentMethod_Bank transfer (automatic) |   -0.123657   |        0.123657        |\n",
            "| InternetService                         |   0.097345    |        0.097345        |\n",
            "| DeviceProtection                        |   -0.091994   |        0.091994        |\n",
            "| tenure                                  |   -0.056804   |        0.056804        |\n",
            "| Partner                                 |   0.056150    |        0.056150        |\n",
            "| MultipleLines                           |   0.050519    |        0.050519        |\n",
            "| StreamingMovies                         |   0.030705    |        0.030705        |\n",
            "| StreamingTV                             |   -0.021629   |        0.021629        |\n",
            "| MonthlyCharges                          |   0.014224    |        0.014224        |\n",
            "| TotalCharges                            |   0.000287    |        0.000287        |\n"
          ]
        }
      ]
    },
    {
      "cell_type": "code",
      "source": [
        "from sklearn.model_selection import GridSearchCV, cross_val_score, KFold\n",
        "from sklearn.linear_model import LogisticRegression\n",
        "from sklearn.tree import DecisionTreeClassifier\n",
        "from sklearn.ensemble import RandomForestClassifier, GradientBoostingClassifier\n",
        "from sklearn.svm import SVC\n",
        "from sklearn.preprocessing import StandardScaler\n",
        "from sklearn.pipeline import Pipeline\n",
        "from sklearn.model_selection import cross_val_score\n",
        "from sklearn.model_selection import GridSearchCV\n",
        "from sklearn.pipeline import Pipeline\n",
        "from sklearn.metrics import accuracy_score, precision_score, recall_score, roc_auc_score, f1_score\n",
        "\n",
        "\n",
        "\n",
        "pipelines = {\n",
        "    \"Logistic Regression\": Pipeline(steps=[\n",
        "        ('scl', StandardScaler()), ('clf', LogisticRegression())]),\n",
        "    \"Decision Tree\": Pipeline(steps=[\n",
        "        ('scl', StandardScaler()), ('clf', DecisionTreeClassifier())]),\n",
        "    \"Random Forest\": Pipeline(steps=[\n",
        "        ('scl', StandardScaler()), ('clf', RandomForestClassifier())]),\n",
        "    \"Gradient Boosting\": Pipeline(steps=[\n",
        "        ('scl', StandardScaler()), ('clf', GradientBoostingClassifier())]),\n",
        "    \"Support Vector Machines\": Pipeline(steps=[\n",
        "        ('scl', StandardScaler()), ('clf', SVC())]),\n",
        "}\n",
        "\n",
        "hyperparameters = {\n",
        "    \"Logistic Regression\": { 'clf__C': [0.001, 0.01, 0.1, 1, 10, 100, 1000]},\n",
        "    \"Decision Tree\": { 'clf__max_depth': list(range(1, 10))},\n",
        "    \"Random Forest\": { 'clf__n_estimators': [50, 100, 200], 'clf__max_depth': list(range(1, 10)) },\n",
        "    \"Gradient Boosting\": { 'clf__n_estimators': [50, 100, 200], 'clf__learning_rate': [0.01, 0.1] },\n",
        "    \"Support Vector Machines\": { 'clf__C': [0.001, 0.01, 0.1, 1, 10], 'clf__gamma': [0.001, 0.01, 0.1, 1] }\n",
        "}\n",
        "\n",
        "outer_cv = KFold(n_splits=3, shuffle=True, random_state=1)\n",
        "inner_cv = KFold(n_splits=3, shuffle=True, random_state=1)\n",
        "\n",
        "models = list(pipelines.keys())\n",
        "\n",
        "# For each model, fit the model, perform nested cross-validation, and store the F1 score\n",
        "# for name in pipelines:\n",
        "#     # Inner loop: hyperparameter tuning\n",
        "#     model = GridSearchCV(pipelines[name], hyperparameters[name], cv=inner_cv, scoring='f1', error_score='raise')\n",
        "#     model.fit(X_train, y_train)\n",
        "\n",
        "#     # Outer loop: model selection\n",
        "#     y_pred = model.predict(X_test)\n",
        "#     f1 = f1_score(y_test, y_pred)\n",
        "#     f1_scores.append(f1)\n",
        "\n",
        "# # Print the F1 scores for each model\n",
        "# for model, f1_score in zip(models, f1_scores):\n",
        "#     print(f\"Model: {model}, F1 Score: {f1_score:.4f}\")\n",
        "\n",
        "# create a bar plot of the model scores\n",
        "# plt.bar(models, f1_score)\n",
        "# plt.xlabel('Model')\n",
        "# plt.ylabel('Average F1 Score')\n",
        "# plt.title('Comparison of Machine Learning Models')\n",
        "# plt.xticks(rotation=90)\n",
        "# plt.show()\n",
        "\n",
        "\n",
        "\n",
        "models = list(pipelines.keys())\n",
        "accuracy_scores = []\n",
        "precision_scores = []\n",
        "recall_scores = []\n",
        "roc_auc_scores = []\n",
        "f1_scores = []\n",
        "\n",
        "\n",
        "# For each model, fit the model, perform nested cross-validation, and store the evaluation metrics\n",
        "for name in pipelines:\n",
        "    # Inner loop: hyperparameter tuning\n",
        "    model = GridSearchCV(pipelines[name], hyperparameters[name], cv=inner_cv, scoring='f1', error_score='raise')\n",
        "    model.fit(X_train, y_train)\n",
        "\n",
        "    # Outer loop: model selection\n",
        "    y_pred = model.predict(X_test)\n",
        "    accuracy = accuracy_score(y_test, y_pred)\n",
        "    precision = precision_score(y_test, y_pred)\n",
        "    recall = recall_score(y_test, y_pred)\n",
        "    roc_auc = roc_auc_score(y_test, y_pred)\n",
        "    f1 = f1_score(y_test, y_pred)\n",
        "\n",
        "    accuracy_scores.append(accuracy)\n",
        "    precision_scores.append(precision)\n",
        "    recall_scores.append(recall)\n",
        "    roc_auc_scores.append(roc_auc)\n",
        "    f1_scores.append(f1)\n",
        "\n",
        "\n",
        "# Print the evaluation metrics for each model\n",
        "for model, accuracy, precision, recall, roc_auc, f1 in zip(models, accuracy_scores, precision_scores, recall_scores, roc_auc_scores, f1_scores):\n",
        "    print(f\"Model: {model}\")\n",
        "    print(f\"Accuracy: {accuracy:.4f}\")\n",
        "    print(f\"Precision: {precision:.4f}\")\n",
        "    print(f\"Recall: {recall:.4f}\")\n",
        "    print(f\"ROC-AUC: {roc_auc:.4f}\")\n",
        "    print(f\"F1-SCORE: {f1:.4f}\")\n",
        "    print()"
      ],
      "metadata": {
        "colab": {
          "base_uri": "https://localhost:8080/"
        },
        "id": "YEpAvhR1oqmp",
        "outputId": "cb565e76-cae9-4454-a169-dd9c7ea4f414"
      },
      "execution_count": 89,
      "outputs": [
        {
          "output_type": "stream",
          "name": "stdout",
          "text": [
            "Model: Logistic Regression\n",
            "Accuracy: 0.8169\n",
            "Precision: 0.6758\n",
            "Recall: 0.5925\n",
            "ROC-AUC: 0.7451\n",
            "F1-SCORE: 0.6314\n",
            "\n",
            "Model: Decision Tree\n",
            "Accuracy: 0.7402\n",
            "Precision: 0.5065\n",
            "Recall: 0.7265\n",
            "ROC-AUC: 0.7359\n",
            "F1-SCORE: 0.5969\n",
            "\n",
            "Model: Random Forest\n",
            "Accuracy: 0.8062\n",
            "Precision: 0.6736\n",
            "Recall: 0.5201\n",
            "ROC-AUC: 0.7147\n",
            "F1-SCORE: 0.5870\n",
            "\n",
            "Model: Gradient Boosting\n",
            "Accuracy: 0.8070\n",
            "Precision: 0.6760\n",
            "Recall: 0.5201\n",
            "ROC-AUC: 0.7152\n",
            "F1-SCORE: 0.5879\n",
            "\n",
            "Model: Support Vector Machines\n",
            "Accuracy: 0.8176\n",
            "Precision: 0.6921\n",
            "Recall: 0.5603\n",
            "ROC-AUC: 0.7353\n",
            "F1-SCORE: 0.6193\n",
            "\n"
          ]
        }
      ]
    }
  ]
}